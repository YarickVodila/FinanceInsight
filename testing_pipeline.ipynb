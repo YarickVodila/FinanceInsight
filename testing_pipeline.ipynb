{
 "cells": [
  {
   "cell_type": "code",
   "execution_count": 1,
   "metadata": {},
   "outputs": [
    {
     "data": {
      "text/plain": [
       "True"
      ]
     },
     "execution_count": 1,
     "metadata": {},
     "output_type": "execute_result"
    }
   ],
   "source": [
    "import os\n",
    "from IPython.display import Markdown, Image\n",
    "from apps.rag_system.rag_pipeline import FinanceMultiAgentRAG\n",
    "\n",
    "from dotenv import load_dotenv\n",
    "load_dotenv('./.env')"
   ]
  },
  {
   "cell_type": "code",
   "execution_count": 2,
   "metadata": {},
   "outputs": [],
   "source": [
    "api_key = os.environ.get(\"MISTRAL_KEY\")"
   ]
  },
  {
   "cell_type": "code",
   "execution_count": 3,
   "metadata": {},
   "outputs": [],
   "source": [
    "pipeline = FinanceMultiAgentRAG(\n",
    "    api_key = api_key\n",
    ")"
   ]
  },
  {
   "cell_type": "code",
   "execution_count": 4,
   "metadata": {},
   "outputs": [
    {
     "data": {
      "text/markdown": [
       "Самое выгодное предложение по вкладам на рынке на данный момент предлагают Ozon Банк и ББР Банк с процентной ставкой до 25,00% на период от 30 до 61 дня.\n",
       "\n",
       "Источник: https://www.banki.ru/products/deposits/?type=14&special[]=14&sort=efficient_rate&order=desc"
      ],
      "text/plain": [
       "<IPython.core.display.Markdown object>"
      ]
     },
     "execution_count": 4,
     "metadata": {},
     "output_type": "execute_result"
    }
   ],
   "source": [
    "output = pipeline.get_response(\"Какое сейчас самое выгодное предложение по вкладам на рынке?\")\n",
    "Markdown(output)"
   ]
  },
  {
   "cell_type": "code",
   "execution_count": 5,
   "metadata": {},
   "outputs": [
    {
     "data": {
      "text/markdown": [
       "Вклады сейчас предлагаются следующими банками:\n",
       "\n",
       "1. Альфа-Банк:\n",
       "   - Процентная ставка до 24,00%\n",
       "   - Периоды: от 30 до 61 дня\n",
       "   - Сумма: от 1 до 1,50 млн ₽\n",
       "\n",
       "2. ВТБ:\n",
       "   - Процентная ставка до 24,00%\n",
       "   - Периоды: от 1 до 91 дня\n",
       "   - Сумма: от 1000 до 1 млн ₽\n",
       "\n",
       "3. Газпромбанк:\n",
       "   - Процентная ставка до 24,00%\n",
       "   - Периоды: от 1 до 61 дня\n",
       "   - Сумма: от 1 до 1,50 млн ₽\n",
       "\n",
       "4. МТС Банк:\n",
       "   - Процентная ставка до 23,00%\n",
       "   - Периоды: от 30 до 61 дня\n",
       "   - Сумма: от 1 до 2 млн ₽\n",
       "\n",
       "5. Локо-Банк:\n",
       "   - Процентная ставка до 23,00%\n",
       "   - Периоды: от 30 до 91 дня\n",
       "   - Сумма: от 1 до 5 млн ₽\n",
       "\n",
       "6. Банк ФИНАМ:\n",
       "   - Процентная ставка до 22,00%\n",
       "   - Периоды: от 30 до 61 дня\n",
       "   - Сумма: от 1 до 1,50 млн ₽\n",
       "\n",
       "7. Россельхозбанк:\n",
       "   - Процентная ставка 20,00%\n",
       "   - Периоды: от 30 дней\n",
       "   - Сумма: от 100 до 3 млн ₽\n",
       "\n",
       "8. Ozon Банк:\n",
       "   - Процентная ставка до 25,00%\n",
       "   - Периоды: от 30 до 61 дня\n",
       "   - Сумма: от 1 ₽\n",
       "\n",
       "9. ББР Банк:\n",
       "   - Процентная ставка до 25,00%\n",
       "   - Периоды: от 30 до 61 дня\n",
       "   - Сумма: от 10 000 ₽\n",
       "\n",
       "10. Инвестторгбанк:\n",
       "   - Процентная ставка до 24,00%\n",
       "   - Периоды: от 30 до 61 дня\n",
       "   - Сумма: от 1 до 10 млн ₽\n",
       "\n",
       "Источник: https://www.banki.ru/products/deposits/?type=14&special[]=14&sort=efficient_rate&order=desc"
      ],
      "text/plain": [
       "<IPython.core.display.Markdown object>"
      ]
     },
     "execution_count": 5,
     "metadata": {},
     "output_type": "execute_result"
    }
   ],
   "source": [
    "output = pipeline.get_response(\"Расскажи какие вклады и от каких банков сейчас есть?\")\n",
    "Markdown(output)"
   ]
  },
  {
   "cell_type": "code",
   "execution_count": 13,
   "metadata": {},
   "outputs": [
    {
     "data": {
      "text/markdown": [
       "Наибольший процент по вкладу на сумму 10 тысяч рублей на срок 2 месяца (30 — 61 дн.) предлагают следующие банки:\n",
       "\n",
       "1. Ozon Банк — до 25,00%\n",
       "2. ББР Банк — до 25,00%\n",
       "\n",
       "Источник: https://www.banki.ru/products/deposits/?type=14&special[]=14&sort=efficient_rate&order=desc"
      ],
      "text/plain": [
       "<IPython.core.display.Markdown object>"
      ]
     },
     "execution_count": 13,
     "metadata": {},
     "output_type": "execute_result"
    }
   ],
   "source": [
    "output = pipeline.get_response(\"Где можно открыть вклад с суммой 10 тысяч  на 2 месяца под большой процент?\")\n",
    "Markdown(output)"
   ]
  },
  {
   "cell_type": "code",
   "execution_count": 6,
   "metadata": {},
   "outputs": [
    {
     "data": {
      "text/markdown": [
       "Макроэкономика — это перспектива на экономику, которая рассматривает экономику в целом, фокусируясь на таких целях, как рост уровня жизни, безработица и инфляция. Макроэкономика включает два типа политик для достижения этих целей: монетарную политику и фискальную политику.\n",
       "\n",
       "Источник: {'Part': '1', 'Chapter': '1.2 Microeconomics and Macroeconomics', 'source': 'principles_of_economics'}"
      ],
      "text/plain": [
       "<IPython.core.display.Markdown object>"
      ]
     },
     "execution_count": 6,
     "metadata": {},
     "output_type": "execute_result"
    }
   ],
   "source": [
    "output = pipeline.get_response(\"Что такое макроэкономика?\")\n",
    "\n",
    "Markdown(output)"
   ]
  },
  {
   "cell_type": "code",
   "execution_count": 7,
   "metadata": {},
   "outputs": [
    {
     "data": {
      "text/markdown": [
       "ВВП страны может рассчитываться тремя способами: по расходам, по доходам и по добавленной стоимости.\n",
       "\n",
       "1. **ВВП по расходам**:\n",
       "   - Конечное потребление (расходы граждан на товары и услуги, стоимость товаров и услуг собственного производства, расходы государства на бесплатные услуги населению и услуги обществу в целом, а также расходы некоммерческих кредитных организаций)\n",
       "   - Валовое накопление капитала (покупка станков, оборудования, запасов, мест производства)\n",
       "   - Государственные расходы\n",
       "   - Чистый экспорт (экспорт минус импорт)\n",
       "\n",
       "2. **ВВП по доходам**:\n",
       "   - Оплата труда наемных работников (резидентов и нерезидентов)\n",
       "   - Валовая прибыль всех отраслей или институциональных секторов\n",
       "   - Чистые налоги на производство и импорт\n",
       "\n",
       "3. **ВВП по добавленной стоимости**:\n",
       "   - Фонд оплаты труда всех наемных работников в стране\n",
       "   - Валовая прибыль всех отраслей экономики\n",
       "   - Чистые налоги на производство и импорт (налоги на производство минус субсидии)\n",
       "\n",
       "Источник: {'Course theme': 'Российская макростатистика. ВВП — ключевой барометр экономики', 'source': 'bcs'}"
      ],
      "text/plain": [
       "<IPython.core.display.Markdown object>"
      ]
     },
     "execution_count": 7,
     "metadata": {},
     "output_type": "execute_result"
    }
   ],
   "source": [
    "output = pipeline.get_response(\"Как рассчитывается ВВП страны?\")\n",
    "\n",
    "Markdown(output)"
   ]
  },
  {
   "cell_type": "code",
   "execution_count": 16,
   "metadata": {},
   "outputs": [
    {
     "data": {
      "text/markdown": [
       "Последние новости из rbc:\n",
       "| Ссылка | Описание |\n",
       "|--------|--------|\n",
       "| [Ссылка](https://www.rbc.ru/business/15/12/2024/675c1d509a79470f82b8be88) | Суд принял к производству заявление о банкротстве Светланы Шпигель — дочери основателя «Биотэка» Бориса Шпигеля и экс-супруги Николая Баскова. Заявление подала одна из структур холдинга ее отца, сама попавшая под банкротство |"
      ],
      "text/plain": [
       "<IPython.core.display.Markdown object>"
      ]
     },
     "execution_count": 16,
     "metadata": {},
     "output_type": "execute_result"
    }
   ],
   "source": [
    "output = pipeline.get_response(\"Найди последние новости на RBC\")\n",
    "Markdown(output)"
   ]
  },
  {
   "cell_type": "code",
   "execution_count": 8,
   "metadata": {},
   "outputs": [
    {
     "data": {
      "text/markdown": [
       "Последние новости из journal.tinkoff:\n",
       "| Ссылка | Описание |\n",
       "|--------|--------|\n",
       "| [Ссылка](https://journal.tinkoff.ru/news/design-1000-itogi/) | 12 декабря ЦБ подвел итоги народного голосования за символ для новой банкноты номиналом 1000 ₽. В голосовании принимали участие только символы Приволжского федерального округа |\n",
       "| [Ссылка](https://journal.tinkoff.ru/news/matkapital-na-dom-spravka/) | Для покупки дома с вложением материнского капитала потребуется заключение о его пригодности для проживания. Такие изменения в закон о поддержке семей с детьми приняла Госдума 12 декабря |\n",
       "| [Ссылка](https://journal.tinkoff.ru/news/trains-to-china/) | Между Россией и Китаем запустили поезда. Сколько стоят билеты. По какому расписанию будут ходить поезда. Откуда отходят и куда прибывают поезда. |\n",
       "| [Ссылка](https://journal.tinkoff.ru/news/app-store-best-apps-2024/) | Компания Apple подвела итоги конкурса App Store Awards и опубликовала список лучших игр и приложений 2024 года для iPhone, iPad, Mac, Apple TV и Vision Pro. Какие приложения и игры в App Store признали лучшими в 2024 году. |\n",
       "| [Ссылка](https://journal.tinkoff.ru/news/increase-in-fines-25/) | Принят закон об увеличении штрафов за большинство дорожных нарушений с 1 января 2025 года. Насколько вырастут штрафы. Как будут распределяться доходы от штрафов за нарушения ПДД между региональным и федеральным бюджетами. |\n",
       "| [Ссылка](https://journal.tinkoff.ru/news/indexing-pensii-rabochikh-2025/) | С 1 января 2025 года страховую пенсию работающим пенсионерам проиндексируют на 7,3%. Индексацию применят к установленному размеру пенсии, который учитывает индексации за периоды трудовой деятельности |\n",
       "| [Ссылка](https://journal.tinkoff.ru/news/yandex-courier-help/) | 12 декабря «Яндекс» рассказал об итогах конференции YaC 2024. Компания анонсировала функцию «Очередь» для «Яндекс Go» и объявила о начале тестирования услуги «Помощник». |\n",
       "| [Ссылка](https://journal.tinkoff.ru/news/kraven-the-flop-hunter/) | «Крейвен-охотник» заработал 11 миллионов долларов в первые выходные проката — при бюджете в 110 млн. Фильм получил низкие оценки от прессы и провалился в прокате. За что критики ругают кинокомикс |\n",
       "| [Ссылка](https://journal.tinkoff.ru/news/huawei-mate-x6-in-russia/) | 13 декабря в России стартовали предзаказы складного смартфона Huawei Mate X6. Смартфон поступит в продажу в России в январе 2025 года |\n",
       "| [Ссылка](https://journal.tinkoff.ru/news/tga-2024-itogi/) | 13 декабря прошла ежегодная церемония вручения премии The Game Awards. Больше всего наград, в том числе главную, взяла Astro Bot. |\n",
       "| [Ссылка](https://journal.tinkoff.ru/news/test-deti-migrantov/) | Госдума приняла закон о запрете брать в школы детей мигрантов без знания русского языка. Каких детей мигрантов не возьмут в школы, как будет проходить проверка знаний русского языка. |\n",
       "| [Ссылка](https://journal.tinkoff.ru/news/google-itogi-2024/) | Гугл подвел итоги 2024 года и опубликовал список самых популярных запросов в разных категориях. Это глобальный рейтинг, еще на сайте можно посмотреть популярные запросы в отдельных странах |\n",
       "| [Ссылка](https://journal.tinkoff.ru/news/bulgaria-romania-schengen/) | С 1 января Болгария и Румыния станут полноправными членами Шенгенской зоны. С этого момента отменят погранконтроль на сухопутных границах между Болгарией, Румынией и странами Шенгена. |\n",
       "| [Ссылка](https://journal.tinkoff.ru/news/molodye-i-mnogodetnye/) | 12 декабря 2024 года Мособлдума приняла закон о новой выплате для родителей. Семьям, в которых родится третий или последующий ребенок, заплатят по 300 000 ₽ при соблюдении ряда условий. |\n",
       "| [Ссылка](https://journal.tinkoff.ru/news/discount-fines-25/) | Госдума приняла закон об уменьшении скидки при быстрой уплате штрафов за нарушения ПДД. Закон вступит в силу 1 января 2025 года. Документ должен одобрить Совет Федерации и подписать президент |\n",
       "| [Ссылка](https://journal.tinkoff.ru/news/ofz-2024/) | 11 декабря российский Минфин досрочно выполнил годовой план заимствований. Всего за неделю он привлек 2 трлн рублей — почти столько же, сколько за предыдущие 11 месяцев |\n",
       "| [Ссылка](https://journal.tinkoff.ru/news/karandashi-dlya-nosa/) | 12 декабря 2024 года Роспотребнадзор объявил, что все маркетплейсы в России прекратили продажу аромаингаляторов.Что представляют собой аромаингаляторы и могут ли они на самом деле нанести вред здоровью. |\n",
       "| [Ссылка](https://journal.tinkoff.ru/news/ios18-2-release/) | Apple выпустила обновление iOS 18.2. Установить эту версию системы могут все желающие. Расскажу, какие новые функции там появились. |\n",
       "| [Ссылка](https://journal.tinkoff.ru/news/swimming-wc-2024-results/) | 15 декабря в Будапеште завершился чемпионат мира по плаванию на короткой воде. Российские спортсмены заработали там шесть золотых и четыре серебряные медали |\n",
       "| [Ссылка](https://journal.tinkoff.ru/news/alkogol-marketplace/) | Объединенная компания Wildberries и Russ сообщила, что на маркетплейсе теперь можно заказать алкоголь. Подобная продукция также появилась на онлайн-витринах «Яндекс Маркета» и Ozon |\n",
       "| [Ссылка](https://journal.tinkoff.ru/news/darstvennaya-u-notariusa/) | Госдума утвердила поправки, согласно которым при дарении недвижимости участие нотариуса станет обязательным. Изменения должен одобрить Совет Федерации и подписать президент. |\n",
       "| [Ссылка](https://journal.tinkoff.ru/news/tax-advertising-3/) | Кто должен будут отчислять средства в федеральный бюджет за распространение рекламы в интернете. Сколько нужно будет платить за рекламу в интернете. Кого освободят от сбора за интернет-рекламу. |\n",
       "| [Ссылка](https://journal.tinkoff.ru/news/expensive-istanbul-museums/) | С 1 января в Стамбуле подорожают билеты в музеи и дворцы. Сколько будут стоить билеты для иностранцев и местных жителей |\n",
       "| [Ссылка](https://journal.tinkoff.ru/news/viber-end/) | Вечером 13 декабря Роскомнадзор заблокировал мессенджер Viber. В ведомстве заявили, что причиной послужило «нарушение требований российского законодательства к организаторам распространения информации» |\n",
       "| [Ссылка](https://journal.tinkoff.ru/news/nedruzhestvennaya-propiska-bumagi/) | С 1 января 2025 года Мосбиржа присвоит ценным бумагам, не перешедшим в российскую юрисдикцию, признак «доступная для покупок только квалифицированным инвесторам» |"
      ],
      "text/plain": [
       "<IPython.core.display.Markdown object>"
      ]
     },
     "execution_count": 8,
     "metadata": {},
     "output_type": "execute_result"
    }
   ],
   "source": [
    "output = pipeline.get_response(\"Найди последние новости на tinkoff\")\n",
    "Markdown(output)"
   ]
  },
  {
   "cell_type": "code",
   "execution_count": 9,
   "metadata": {},
   "outputs": [
    {
     "data": {
      "text/markdown": [
       "Последние новости из rambler:\n",
       "| Ссылка | Описание |\n",
       "|--------|--------|\n",
       "| [Ссылка](https://finance.rambler.ru/economics/53917276-sanktsii-ssha-narushili-eksport-iranskoy-nefti-v-kitay-vortexa/) | По данным компании Vortexa Ltd., экспорт иранской нефти в Китай нарушился из-за расширения санкций США в отношении танкеров, что привело к сокращению поставок нефти важнейшему клиенту... |\n",
       "| [Ссылка](https://finance.rambler.ru/economics/53919374-glava-etsb-otsenila-shansy-evropy-odolet-inflyatsiyu/) | Европейский центральный банк продолжит снижать ставки, заявила глава Центробанка Кристин Лагард. |\n",
       "| [Ссылка](https://finance.rambler.ru/economics/53921531-stoimost-kakao-bobov-obnovila-istoricheskiy-maksimum/) | Биржевые цены на какао-бобы 16 декабря достигли нового исторического максимума, превысив 11,8 тысяч долларов за тонну. Об этом сообщает «Прайм» со ссылкой на данные ICE Futures.... |\n",
       "| [Ссылка](https://finance.rambler.ru/economics/53921612-minfin-ssha-rasshiril-spisok-sanktsiy-protiv-rossii-i-kndr/) | Минфин США в понедельник, 16 декабря, объявил о расширении санкционного списка против России и КНДР. Об этом пишет РИА Новости со ссылкой на пресс-службу ведомства.... |\n",
       "| [Ссылка](https://finance.rambler.ru/economics/?domain=news_rambler) | Новости мировой и отечественной экономики. Аналитические прогнозы минфина и освещение инициатив правительства в финансовом секторе. |\n",
       "| [Ссылка](https://finance.rambler.ru/economics/53918240-klyuchevoy-stavke-banka-rossii-predskazali-kompromissnyy-rost/) | Совет директоров Банка России 20 декабря повысит ключевую ставку на 2 процентных пункта (п. п. ), до 23 процентов годовых, считает около двух третей (16 из 23) опрошенных «Ведомостями» аналитиков.... |\n",
       "| [Ссылка](https://finance.rambler.ru/economics/53919199-ekonomist-otsenil-novuyu-ideyu-deputatov-po-denezhno-kreditnoy-politike-tsb/) | Директор Института социально-экономических исследований Финансового университета при правительстве РФ Алексей Зубец в разговоре с Рамблером прокомментировал инициативу, связанную с внесением... |\n",
       "| [Ссылка](https://finance.rambler.ru/economics/53919545-uoll-strit-opasaetsya-obvala-dollara/) | Уолл-стрит начинает испытывать беспокойство по поводу доллара, поскольку политика избранного президента Дональда Трампа и снижение процентных ставок Федеральной резервной системой (ФРС) могут... |\n",
       "| [Ссылка](https://finance.rambler.ru/economics/53919136-sovet-es-utverdil-15-y-paket-sanktsiy-protiv-rf/) | ЕС принял 15-й пакет санкций, внеся в черный список 84 физлица и компании из России, Китая и КНДР, в том числе танкеры, перевозящие нефть из РФ, говорится в заявлении Совета...... |\n",
       "| [Ссылка](https://finance.rambler.ru/economics/53918245-ekonomist-nazval-posledstviya-povysheniya-klyuchevoy-stavki-tsb-do-25/) | Экономический обозреватель Tsargrad. tv Юрий Пронько прокомментировал сообщения о том, что Банк России на ближайшем заседании может вновь поднять ключевую ставку.... |\n",
       "| [Ссылка](https://finance.rambler.ru/economics/53911865-eksperty-sprognozirovali-kurs-valyut-na-nedelyu-kak-povliyaet-na-rubl-reshenie-tsb-po-stavke/) | Рубль завершил прошлую неделю ослаблением. Внебиржевой курс доллара в пятницу, 13 декабря 2024 года, закрылся на отметке 104,5 ₽, что на 4 ₽ выше закрытия предшествующей недели.... |\n",
       "| [Ссылка](https://finance.rambler.ru/economics/53919798-v-evrope-zahoteli-suditsya-iz-za-platy-za-tranzit-rossiyskogo-gaza/) | Австрия готова судиться с Германией из-за затягивания отмены пошлин за транзит российского газа для соседних с ФРГ государств. Об этом заявила глава Минэнерго европейской страны Леоноре Гевесслер,... |\n",
       "| [Ссылка](https://finance.rambler.ru/economics/53919987-rost-tsen-v-rossii-nazvali-udivitelno-medlennym/) | Имеющийся перегрев российской экономики заставляет только удивляться тому факту, что инфляция сейчас остается на столь слабом уровне.... |"
      ],
      "text/plain": [
       "<IPython.core.display.Markdown object>"
      ]
     },
     "execution_count": 9,
     "metadata": {},
     "output_type": "execute_result"
    }
   ],
   "source": [
    "output = pipeline.get_response(\"Найди последние новости на Rambler\")\n",
    "Markdown(output)"
   ]
  },
  {
   "cell_type": "code",
   "execution_count": 19,
   "metadata": {},
   "outputs": [
    {
     "data": {
      "text/markdown": [
       "Центральные банки регулируют инфляцию, используя монетарную политику. Когда инфляция заметно ослабевает, регулятор снижает процентные ставки, чтобы стимулировать экономику. Когда инфляция устойчиво превышает целевой ориентир, центральный банк увеличивает процентные ставки, чтобы сдержать рост цен. Например, целевой ориентир по инфляции для ФРС и ЕЦБ составляет 2% годовых, а для Банка России — 4% годовых.\n",
       "\n",
       "Источник: {'Course theme': 'Как инвестору оценить экономику и зачем это нужно', 'source': 'bcs'}"
      ],
      "text/plain": [
       "<IPython.core.display.Markdown object>"
      ]
     },
     "execution_count": 19,
     "metadata": {},
     "output_type": "execute_result"
    }
   ],
   "source": [
    "output = pipeline.get_response(\"Как центральные банки регулируют инфляцию?\")\n",
    "Markdown(output)"
   ]
  },
  {
   "cell_type": "code",
   "execution_count": 22,
   "metadata": {},
   "outputs": [
    {
     "data": {
      "image/png": "[encoded data removed]",
      "text/plain": [
       "<IPython.core.display.Image object>"
      ]
     },
     "execution_count": 22,
     "metadata": {},
     "output_type": "execute_result"
    }
   ],
   "source": [
    "Image(pipeline.graph.get_graph().draw_mermaid_png(output_file_path=\"graph.png\"))"
   ]
  }
 ],
 "metadata": {
  "kernelspec": {
   "display_name": ".venv",
   "language": "python",
   "name": "python3"
  },
  "language_info": {
   "codemirror_mode": {
    "name": "ipython",
    "version": 3
   },
   "file_extension": ".py",
   "mimetype": "text/x-python",
   "name": "python",
   "nbconvert_exporter": "python",
   "pygments_lexer": "ipython3",
   "version": "3.11.5"
  }
 },
 "nbformat": 4,
 "nbformat_minor": 2
}
