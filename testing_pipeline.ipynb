{
 "cells": [
  {
   "cell_type": "code",
   "execution_count": 1,
   "metadata": {},
   "outputs": [],
   "source": [
    "import os\n",
    "from IPython.display import Markdown, Image\n",
    "from apps.rag_system.rag_pipeline import FinanceMultiAgentRAG"
   ]
  },
  {
   "cell_type": "code",
   "execution_count": 2,
   "metadata": {},
   "outputs": [],
   "source": [
    "with open(\"D:/programming/ITMO/IntroLLM/FinanceInsight/api_keys/api_mistral.txt\", \"r\") as f:\n",
    "    os.environ[\"MISTRAL_API_KEY\"] = f.readline()\n",
    "\n",
    "api_key = os.environ[\"MISTRAL_API_KEY\"]\n"
   ]
  },
  {
   "cell_type": "code",
   "execution_count": 5,
   "metadata": {},
   "outputs": [
    {
     "data": {
      "text/markdown": [
       "Макроэкономика — это один из двух различных взглядов на экономику. Макроэкономический взгляд рассматривает экономику в целом, сосредотачиваясь на таких целях, как рост уровня жизни, безработица и инфляция. Для достижения этих целей макроэкономика использует два типа политик: денежно-кредитную политику и фискальную политику.\n",
       "\n",
       "Источник:\n",
       "{'Part': '1', 'Chapter': '1.2 Microeconomics and Macroeconomics'}"
      ],
      "text/plain": [
       "<IPython.core.display.Markdown object>"
      ]
     },
     "execution_count": 5,
     "metadata": {},
     "output_type": "execute_result"
    }
   ],
   "source": [
    "pipeline = FinanceMultiAgentRAG(\n",
    "    api_key = api_key\n",
    ")"
   ]
  },
  {
   "cell_type": "code",
   "execution_count": null,
   "metadata": {},
   "outputs": [
    {
     "data": {
      "text/markdown": [
       "Макроэкономика — это перспектива на экономику, которая рассматривает экономику в целом, фокусируясь на таких целях, как рост уровня жизни, безработица и инфляция. Макроэкономика использует две основные политики для достижения этих целей: монетарную политику и фискальную политику.\n",
       "\n",
       "Источник: {'Part': '1', 'Chapter': '1.2 Microeconomics and Macroeconomics'}"
      ],
      "text/plain": [
       "<IPython.core.display.Markdown object>"
      ]
     },
     "execution_count": 4,
     "metadata": {},
     "output_type": "execute_result"
    }
   ],
   "source": [
    "output = pipeline.get_response(\"Что такое макроэкономика?\")\n",
    "\n",
    "Markdown(output)"
   ]
  },
  {
   "cell_type": "code",
   "execution_count": 7,
   "metadata": {},
   "outputs": [
    {
     "data": {
      "text/markdown": [
       "ВВП (валовой внутренний продукт) страны может быть рассчитан тремя способами: по расходам, по доходам и по добавленной стоимости.\n",
       "\n",
       "1. **ВВП по расходам**:\n",
       "   \\[\n",
       "   \\text{ВВП по расходам} = \\text{конечное потребление} + \\text{валовое накопление капитала} + \\text{государственные расходы} + \\text{чистый экспорт}\n",
       "   \\]\n",
       "   Где:\n",
       "   - Конечное потребление — расходы граждан на приобретение товаров и услуг.\n",
       "   - Валовое накопление капитала — покупка станков, оборудования, запасов, мест производства.\n",
       "   - Государственные расходы — расходы государства на оказание бесплатных услуг населению.\n",
       "   - Чистый экспорт — экспорт минус импорт.\n",
       "\n",
       "2. **ВВП по доходам**:\n",
       "   \\[\n",
       "   \\text{ВВП по доходам} = \\text{оплата труда наемных работников} + \\text{валовая прибыль} + \\text{чистые налоги на производство и импорт}\n",
       "   \\]\n",
       "   Где:\n",
       "   - Оплата труда наемных работников — заработная плата всех наемных работников.\n",
       "   - Валовая прибыль — прибыль всех отраслей или институциональных секторов.\n",
       "   - Чистые налоги на производство и импорт — налоги на производство минус субсидии.\n",
       "\n",
       "3. **ВВП по добавленной стоимости**:\n",
       "   \\[\n",
       "   \\text{ВВП по добавленной стоимости} = \\text{фонд оплаты труда всех наемных работников в стране} + \\text{валовая прибыль всех отраслей экономики} + \\text{чистые налоги на производство и импорт}\n",
       "   \\]\n",
       "\n",
       "Источник: {'Course theme': 'Российская макростатистика. ВВП — ключевой барометр экономики'}"
      ],
      "text/plain": [
       "<IPython.core.display.Markdown object>"
      ]
     },
     "execution_count": 7,
     "metadata": {},
     "output_type": "execute_result"
    }
   ],
   "source": [
    "output = pipeline.get_response(\"Как рассчитывается ВВП страны?\")\n",
    "\n",
    "Markdown(output)"
   ]
  },
  {
   "cell_type": "code",
   "execution_count": 8,
   "metadata": {},
   "outputs": [
    {
     "data": {
      "text/markdown": [
       "Последние новости из rbc:\n",
       "| Ссылка | Описание |\n",
       "|--------|--------|\n",
       "| [Ссылка](https://www.rbc.ru/business/15/12/2024/675c1d509a79470f82b8be88) | Суд принял к производству заявление о банкротстве Светланы Шпигель — дочери основателя «Биотэка» Бориса Шпигеля и экс-супруги Николая Баскова. Заявление подала одна из структур холдинга ее отца, сама попавшая под банкротство |"
      ],
      "text/plain": [
       "<IPython.core.display.Markdown object>"
      ]
     },
     "execution_count": 8,
     "metadata": {},
     "output_type": "execute_result"
    }
   ],
   "source": [
    "output = pipeline.get_response(\"Найди последние новости на RBC\")\n",
    "Markdown(output)"
   ]
  },
  {
   "cell_type": "code",
   "execution_count": 9,
   "metadata": {},
   "outputs": [
    {
     "data": {
      "text/markdown": [
       "Последние новости из tinkoff:\n",
       "| Ссылка | Описание |\n",
       "|--------|--------|\n",
       "| [Ссылка](https://finance.rambler.ru/economics/53911298-v-azerbaydzhane-prokommentirovali-informatsiyu-o-prodazhe-rossiyskogo-gaza-zapadu/) | Информация о том, что Азербайджан продает российский газ западным странам, является дезинформацией. Об этом заявил помощник президента страны Хикмет Гаджиев, его цитирует агентство... |\n",
       "| [Ссылка](https://finance.rambler.ru/economics/53913198-na-zapade-priznali-chto-ekonomika-rossii-nahoditsya-v-horoshey-forme/) | Российская экономика, несмотря на введенные санкции, демонстрирует стабильность. Об этом на своей странице в соцсети написал ирландский журналист Чей Боуз.... |\n",
       "| [Ссылка](https://finance.rambler.ru/economics/53909608-raskryta-prichina-podorozhaniya-kofe/) | Подорожание кофе объяснили темпами его потребления в мире. Причину роста цен раскрыл директор цепочки поставок ООО &quot;МилФудс&quot; (Кофейный бренд Poetti) Сергей Юшин, пишут РИА Новости.... |\n",
       "| [Ссылка](https://finance.rambler.ru/economics/53912555-hurriyet-turtsiya-poprosila-ssha-osvobodit-ee-ot-sanktsiy-protiv-gpb/) | Турция попросила Соединенные Штаты, чтобы для нее сделали исключение из санкций против Газпромбанка. Об этом сообщает газета Hurriyet со ссылкой на источники. Отмечается, что соответствующие... |\n",
       "| [Ссылка](https://finance.rambler.ru/economics/53914159-vitse-kantsler-frg-zayavil-chto-nemetskie-predpriyatiya-zagnany-v-ugol/) | Вице-канцлер и министр экономики Германии от партии «Зеленые» Роберт Хабек заявил, что немецкие предприятия столкнулись с серьезными трудностями из-за экономической политики страны.... |\n",
       "| [Ссылка](https://finance.rambler.ru/economics/53914721-breitbart-serbiya-mozhet-lishitsya-rossiyskogo-gaza-iz-za-sanktsiy-zapada/) | Соединенные Штаты намереваются ввести санкции против основного поставщика газа в Сербию, который находится под контролем России, заявил президент республики Александр Вучич. Об этом пишет портал... |\n",
       "| [Ссылка](https://finance.rambler.ru/economics/53911580-ssha-ugrozhayut-rossii-neftyanym-razoreniem/) | Соединенные Штаты продолжат попытки ограничить доходы России от продажи нефти, заявила Reuters глава Минфина США Джанет Йеллен.... |\n",
       "| [Ссылка](https://finance.rambler.ru/economics/53912968-minekonomrazvitiya-k-aprelyu-utochnit-prognoz-po-inflyatsii-na-2025-god/) | Министерство экономического развития планирует скорректировать прогноз инфляции на 2025 год, заявил глава ведомства Максим Решетников. По его словам, уровень инфляции превышает ожидаемые 4,5%.... |\n",
       "| [Ссылка](https://finance.rambler.ru/economics/53912075-prezident-nornikelya-sravnil-deshevye-kredity-so-zmeey/) | Президент «Норильского никеля» Владимир Потанин считает, что приток дешевых кредитов в экономику при дефиците рабочих рук спровоцирует большую инфляцию. Об этом российский предприниматель заявил в... |\n",
       "| [Ссылка](https://finance.rambler.ru/economics/?domain=news_rambler) | Новости мировой и отечественной экономики. Аналитические прогнозы минфина и освещение инициатив правительства в финансовом секторе. |\n",
       "| [Ссылка](https://finance.rambler.ru/economics/53914614-moldaviya-okazalas-v-gazovoy-lovushke-iz-za-ukrainy/) | Молдавия и Приднестровье объявили чрезвычайное положение в свете угрозы остановки поставок российского газа из-за Украины. В самом худшем случае им грозит энергетический блэкаут и гуманитарная... |\n",
       "| [Ссылка](https://finance.rambler.ru/economics/53911896-potanin-schitaet-obosnovannym-kurs-dollara-v-100-110-rubley/) | Курс в 100-110 рублей за доллар является приемлемым и экономически обоснованным, заявил в интервью телеканалу РБК президент компании &quot;Норильский никель&quot; Владимир Потанин.... |\n",
       "| [Ссылка](https://finance.rambler.ru/economics/53910876-finansist-protsenko-schitaet-chto-v-2025-godu-dollar-mozhet-vyrasti-do-127-rubley/) | В 2025 году доллар может вырасти до 127 рублей на фоне возможных «черных лебедей». Об этом сообщает РИА Новости со ссылкой на генерального директора «Альфа-Форекс» Гузель Проценко.... |"
      ],
      "text/plain": [
       "<IPython.core.display.Markdown object>"
      ]
     },
     "execution_count": 9,
     "metadata": {},
     "output_type": "execute_result"
    }
   ],
   "source": [
    "output = pipeline.get_response(\"Найди последние новости на tinkoff\")\n",
    "Markdown(output)"
   ]
  },
  {
   "cell_type": "code",
   "execution_count": 10,
   "metadata": {},
   "outputs": [
    {
     "data": {
      "text/markdown": [
       "Центральные банки регулируют инфляцию с помощью монетарной политики. Если инфляция значительно ниже целевого ориентира, регулятор снижает процентные ставки, чтобы стимулировать экономику. Если инфляция устойчиво превышает целевой ориентир, центральный банк увеличивает процентные ставки, чтобы охладить экономику и снизить инфляционное давление. Например, целевой ориентир по инфляции для ФРС и ЕЦБ составляет 2% годовых, а для Банка России — 4% годовых. (Источник: {'Course theme': 'Как инвестору оценить экономику и зачем это нужно'})"
      ],
      "text/plain": [
       "<IPython.core.display.Markdown object>"
      ]
     },
     "execution_count": 10,
     "metadata": {},
     "output_type": "execute_result"
    }
   ],
   "source": [
    "output = pipeline.get_response(\"Как центральные банки регулируют инфляцию?\")\n",
    "Markdown(output)"
   ]
  },
  {
   "cell_type": "code",
   "execution_count": null,
   "metadata": {},
   "outputs": [],
   "source": []
  },
  {
   "cell_type": "code",
   "execution_count": 11,
   "metadata": {},
   "outputs": [
    {
     "data": {
      "image/png": "[encoded data removed]",
      "text/plain": [
       "<IPython.core.display.Image object>"
      ]
     },
     "execution_count": 11,
     "metadata": {},
     "output_type": "execute_result"
    }
   ],
   "source": [
    "Image(pipeline.graph.get_graph().draw_mermaid_png(output_file_path=\"graph.png\"))"
   ]
  },
  {
   "cell_type": "code",
   "execution_count": null,
   "metadata": {},
   "outputs": [],
   "source": []
  }
 ],
 "metadata": {
  "kernelspec": {
   "display_name": ".venv",
   "language": "python",
   "name": "python3"
  },
  "language_info": {
   "codemirror_mode": {
    "name": "ipython",
    "version": 3
   },
   "file_extension": ".py",
   "mimetype": "text/x-python",
   "name": "python",
   "nbconvert_exporter": "python",
   "pygments_lexer": "ipython3",
   "version": "3.11.5"
  }
 },
 "nbformat": 4,
 "nbformat_minor": 2
}
