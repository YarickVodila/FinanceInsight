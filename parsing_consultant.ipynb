{
 "cells": [
  {
   "cell_type": "code",
   "execution_count": 1,
   "metadata": {},
   "outputs": [],
   "source": [
    "import requests\n",
    "import pandas as pd \n",
    "from bs4 import BeautifulSoup\n",
    "\n",
    "\n",
    "base_url = \"https://www.consultant.ru\""
   ]
  },
  {
   "cell_type": "code",
   "execution_count": 2,
   "metadata": {},
   "outputs": [],
   "source": [
    "response_base_url = requests.get(base_url)\n",
    "soup = BeautifulSoup(response_base_url.text, 'lxml')\n",
    "\n",
    "links = soup.select('ul.useful-links__list li a')\n",
    "codex = {}\n",
    "\n",
    "for link in links:\n",
    "    href = \"https:\" + link['href']\n",
    "    text = link.get_text(strip=True)\n",
    "    if \"кодекс\" in text:\n",
    "         codex[text] = href"
   ]
  },
  {
   "cell_type": "code",
   "execution_count": 3,
   "metadata": {},
   "outputs": [
    {
     "data": {
      "text/plain": [
       "{'Гражданский кодекс (ГК РФ)': 'https://www.consultant.ru/document/cons_doc_LAW_5142/',\n",
       " 'Жилищный кодекс (ЖК РФ)': 'https://www.consultant.ru/document/cons_doc_LAW_51057/',\n",
       " 'Налоговый кодекс (НК РФ)': 'https://www.consultant.ru/document/cons_doc_LAW_19671/',\n",
       " 'Трудовой кодекс (ТК РФ)': 'https://www.consultant.ru/document/cons_doc_LAW_34683/',\n",
       " 'Уголовный кодекс (УК РФ)': 'https://www.consultant.ru/document/cons_doc_LAW_10699/',\n",
       " 'Бюджетный кодекс (БК РФ)': 'https://www.consultant.ru/document/cons_doc_LAW_19702/',\n",
       " 'Таможенный кодекс ЕАЭС': 'https://www.consultant.ru/document/cons_doc_LAW_215315/',\n",
       " 'Арбитражный процессуальный кодекс (АПК РФ)': 'https://www.consultant.ru/document/cons_doc_LAW_37800/',\n",
       " 'Земельный кодекс (ЗК РФ)': 'https://www.consultant.ru/document/cons_doc_LAW_33773/'}"
      ]
     },
     "execution_count": 3,
     "metadata": {},
     "output_type": "execute_result"
    }
   ],
   "source": [
    "codex"
   ]
  },
  {
   "cell_type": "code",
   "execution_count": 4,
   "metadata": {},
   "outputs": [
    {
     "name": "stderr",
     "output_type": "stream",
     "text": [
      "0it [00:00, ?it/s]"
     ]
    },
    {
     "name": "stderr",
     "output_type": "stream",
     "text": [
      "592it [01:37,  6.10it/s]\n",
      "243it [00:36,  6.67it/s]\n",
      "268it [00:45,  5.88it/s]\n",
      "530it [01:24,  6.25it/s]\n",
      "528it [01:27,  6.03it/s]\n",
      "406it [01:03,  6.37it/s]\n",
      "465it [01:15,  6.18it/s]\n",
      "418it [01:04,  6.47it/s]\n",
      "178it [00:26,  6.75it/s]\n",
      "9it [09:43, 64.88s/it]\n"
     ]
    }
   ],
   "source": [
    "import time\n",
    "from tqdm import tqdm\n",
    "\n",
    "codex_df = pd.DataFrame(columns=[\"name_codex\", \"url_codex\", \"name_article\", \"url_article\", \"content_article\"])\n",
    "\n",
    "for i, item in tqdm(enumerate(codex.items())):\n",
    "\n",
    "    name_codex, url_codex =  item\n",
    "\n",
    "    content_codex = requests.get(url_codex)\n",
    "    soup_content_codex = BeautifulSoup(content_codex.text, 'lxml')\n",
    "    articles = soup_content_codex.select(\"div.document-page__toc ul a\")\n",
    "    article_dict = {a.text.strip(): a['href'] for a in articles if \"Статья\" in a.text.strip()}\n",
    "    \n",
    "    #time.sleep(3)\n",
    "    for j, x in tqdm(enumerate(article_dict.items())):\n",
    "        \n",
    "        name_article, url_article = x\n",
    "\n",
    "        content_codex = requests.get(base_url+url_article)\n",
    "        soup_article = BeautifulSoup(content_codex.text, 'html.parser')\n",
    "        content_div = soup_article.find('div', class_='document-page__content document-page_left-padding')\n",
    "\n",
    "        paragraphs = content_div.find_all('p')\n",
    "        text_content = '\\n'.join(p.get_text(strip=True) for p in paragraphs)\n",
    "\n",
    "        new_row = {\"name_codex\": name_codex, \"url_codex\": url_codex, \n",
    "                   \"name_article\": name_article, \"url_article\": url_article,\n",
    "                   \"content_article\": text_content}\n",
    "        codex_df = pd.concat([codex_df, pd.DataFrame([new_row])], ignore_index=True)"
   ]
  },
  {
   "cell_type": "code",
   "execution_count": 5,
   "metadata": {},
   "outputs": [
    {
     "data": {
      "text/html": [
       "<div>\n",
       "<style scoped>\n",
       "    .dataframe tbody tr th:only-of-type {\n",
       "        vertical-align: middle;\n",
       "    }\n",
       "\n",
       "    .dataframe tbody tr th {\n",
       "        vertical-align: top;\n",
       "    }\n",
       "\n",
       "    .dataframe thead th {\n",
       "        text-align: right;\n",
       "    }\n",
       "</style>\n",
       "<table border=\"1\" class=\"dataframe\">\n",
       "  <thead>\n",
       "    <tr style=\"text-align: right;\">\n",
       "      <th></th>\n",
       "      <th>name_codex</th>\n",
       "      <th>url_codex</th>\n",
       "      <th>name_article</th>\n",
       "      <th>url_article</th>\n",
       "      <th>content_article</th>\n",
       "    </tr>\n",
       "  </thead>\n",
       "  <tbody>\n",
       "    <tr>\n",
       "      <th>0</th>\n",
       "      <td>Гражданский кодекс (ГК РФ)</td>\n",
       "      <td>https://www.consultant.ru/document/cons_doc_LA...</td>\n",
       "      <td>Статья 1. Основные начала гражданского законод...</td>\n",
       "      <td>/document/cons_doc_LAW_5142/d65fbe0a603d59546c...</td>\n",
       "      <td>ГК РФ Статья 1. Основные начала гражданского з...</td>\n",
       "    </tr>\n",
       "    <tr>\n",
       "      <th>1</th>\n",
       "      <td>Гражданский кодекс (ГК РФ)</td>\n",
       "      <td>https://www.consultant.ru/document/cons_doc_LA...</td>\n",
       "      <td>Статья 2. Отношения, регулируемые гражданским ...</td>\n",
       "      <td>/document/cons_doc_LAW_5142/8d8cd335130f04a703...</td>\n",
       "      <td>ГК РФ Статья 2. Отношения, регулируемые гражда...</td>\n",
       "    </tr>\n",
       "    <tr>\n",
       "      <th>2</th>\n",
       "      <td>Гражданский кодекс (ГК РФ)</td>\n",
       "      <td>https://www.consultant.ru/document/cons_doc_LA...</td>\n",
       "      <td>Статья 3. Гражданское законодательство и иные ...</td>\n",
       "      <td>/document/cons_doc_LAW_5142/0c4ea7025fa5cb93e5...</td>\n",
       "      <td>ГК РФ Статья 3. Гражданское законодательство и...</td>\n",
       "    </tr>\n",
       "    <tr>\n",
       "      <th>3</th>\n",
       "      <td>Гражданский кодекс (ГК РФ)</td>\n",
       "      <td>https://www.consultant.ru/document/cons_doc_LA...</td>\n",
       "      <td>Статья 4. Действие гражданского законодательст...</td>\n",
       "      <td>/document/cons_doc_LAW_5142/42424a8a7b50848693...</td>\n",
       "      <td>ГК РФ Статья 4. Действие гражданского законода...</td>\n",
       "    </tr>\n",
       "    <tr>\n",
       "      <th>4</th>\n",
       "      <td>Гражданский кодекс (ГК РФ)</td>\n",
       "      <td>https://www.consultant.ru/document/cons_doc_LA...</td>\n",
       "      <td>Статья 5. Обычаи</td>\n",
       "      <td>/document/cons_doc_LAW_5142/585de80c7025af76bc...</td>\n",
       "      <td>ГК РФ Статья 5. Обычаи\\n(в ред. Федеральногоза...</td>\n",
       "    </tr>\n",
       "  </tbody>\n",
       "</table>\n",
       "</div>"
      ],
      "text/plain": [
       "                   name_codex  \\\n",
       "0  Гражданский кодекс (ГК РФ)   \n",
       "1  Гражданский кодекс (ГК РФ)   \n",
       "2  Гражданский кодекс (ГК РФ)   \n",
       "3  Гражданский кодекс (ГК РФ)   \n",
       "4  Гражданский кодекс (ГК РФ)   \n",
       "\n",
       "                                           url_codex  \\\n",
       "0  https://www.consultant.ru/document/cons_doc_LA...   \n",
       "1  https://www.consultant.ru/document/cons_doc_LA...   \n",
       "2  https://www.consultant.ru/document/cons_doc_LA...   \n",
       "3  https://www.consultant.ru/document/cons_doc_LA...   \n",
       "4  https://www.consultant.ru/document/cons_doc_LA...   \n",
       "\n",
       "                                        name_article  \\\n",
       "0  Статья 1. Основные начала гражданского законод...   \n",
       "1  Статья 2. Отношения, регулируемые гражданским ...   \n",
       "2  Статья 3. Гражданское законодательство и иные ...   \n",
       "3  Статья 4. Действие гражданского законодательст...   \n",
       "4                                   Статья 5. Обычаи   \n",
       "\n",
       "                                         url_article  \\\n",
       "0  /document/cons_doc_LAW_5142/d65fbe0a603d59546c...   \n",
       "1  /document/cons_doc_LAW_5142/8d8cd335130f04a703...   \n",
       "2  /document/cons_doc_LAW_5142/0c4ea7025fa5cb93e5...   \n",
       "3  /document/cons_doc_LAW_5142/42424a8a7b50848693...   \n",
       "4  /document/cons_doc_LAW_5142/585de80c7025af76bc...   \n",
       "\n",
       "                                     content_article  \n",
       "0  ГК РФ Статья 1. Основные начала гражданского з...  \n",
       "1  ГК РФ Статья 2. Отношения, регулируемые гражда...  \n",
       "2  ГК РФ Статья 3. Гражданское законодательство и...  \n",
       "3  ГК РФ Статья 4. Действие гражданского законода...  \n",
       "4  ГК РФ Статья 5. Обычаи\\n(в ред. Федеральногоза...  "
      ]
     },
     "execution_count": 5,
     "metadata": {},
     "output_type": "execute_result"
    }
   ],
   "source": [
    "codex_df.head()"
   ]
  },
  {
   "cell_type": "code",
   "execution_count": 6,
   "metadata": {},
   "outputs": [
    {
     "data": {
      "text/plain": [
       "(3628, 5)"
      ]
     },
     "execution_count": 6,
     "metadata": {},
     "output_type": "execute_result"
    }
   ],
   "source": [
    "codex_df.shape"
   ]
  },
  {
   "cell_type": "code",
   "execution_count": 7,
   "metadata": {},
   "outputs": [],
   "source": [
    "codex_df.to_json('./data/codex_df.json', orient='records', force_ascii=False)"
   ]
  },
  {
   "cell_type": "code",
   "execution_count": 8,
   "metadata": {},
   "outputs": [
    {
     "name": "stdout",
     "output_type": "stream",
     "text": [
      "<class 'pandas.core.frame.DataFrame'>\n",
      "RangeIndex: 3628 entries, 0 to 3627\n",
      "Data columns (total 5 columns):\n",
      " #   Column           Non-Null Count  Dtype \n",
      "---  ------           --------------  ----- \n",
      " 0   name_codex       3628 non-null   object\n",
      " 1   url_codex        3628 non-null   object\n",
      " 2   name_article     3628 non-null   object\n",
      " 3   url_article      3628 non-null   object\n",
      " 4   content_article  3628 non-null   object\n",
      "dtypes: object(5)\n",
      "memory usage: 141.8+ KB\n"
     ]
    }
   ],
   "source": [
    "codex_df.info()"
   ]
  }
 ],
 "metadata": {
  "kernelspec": {
   "display_name": "base",
   "language": "python",
   "name": "python3"
  },
  "language_info": {
   "codemirror_mode": {
    "name": "ipython",
    "version": 3
   },
   "file_extension": ".py",
   "mimetype": "text/x-python",
   "name": "python",
   "nbconvert_exporter": "python",
   "pygments_lexer": "ipython3",
   "version": "3.9.12"
  }
 },
 "nbformat": 4,
 "nbformat_minor": 2
}
