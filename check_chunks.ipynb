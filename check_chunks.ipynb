{
 "cells": [
  {
   "cell_type": "code",
   "execution_count": 1,
   "metadata": {},
   "outputs": [],
   "source": [
    "import os \n",
    "import json\n",
    "import time\n",
    "import pandas as pd\n",
    "\n",
    "from tqdm import tqdm\n",
    "from langchain_mistralai import ChatMistralAI\n",
    "from langchain_community.vectorstores import FAISS\n",
    "from langchain_huggingface import HuggingFaceEmbeddings"
   ]
  },
  {
   "cell_type": "markdown",
   "metadata": {},
   "source": [
    "# Генерация вопросов к случайным чанкам"
   ]
  },
  {
   "cell_type": "code",
   "execution_count": 2,
   "metadata": {},
   "outputs": [],
   "source": [
    "api_key = os.environ.get(\"MISTRAL_KEY\")\n",
    "model = ChatMistralAI(model=\"mistral-large-latest\", api_key=api_key)"
   ]
  },
  {
   "cell_type": "code",
   "execution_count": 3,
   "metadata": {},
   "outputs": [],
   "source": [
    "def get_guestion_from_chunk(question):\n",
    "\n",
    "    prompt = f\"\"\"\n",
    "        Это отрывок текста, к которому нужно сформровать вопрос:\n",
    "        `{question}`\n",
    "\n",
    "        Теперь задай вопрос к тексту и верни только его\n",
    "    \"\"\"\n",
    "    response = model.invoke(prompt)\n",
    "    return response.content"
   ]
  },
  {
   "cell_type": "code",
   "execution_count": 4,
   "metadata": {},
   "outputs": [],
   "source": [
    "df = pd.read_json(\"chunks/codex_df.jsonl\", lines=True)"
   ]
  },
  {
   "cell_type": "code",
   "execution_count": 5,
   "metadata": {},
   "outputs": [
    {
     "name": "stdout",
     "output_type": "stream",
     "text": [
      "УК РФ Статья 1. Уголовное законодательство Российской Федерации\n",
      "\n",
      "1. Уголовное законодательство Российской Федерации состоит из настоящего Кодекса. Новые законы, предусматривающие уголовную ответственность, подлежат включению в настоящий Кодекс.\n",
      "2. Настоящий Кодекс основывается наКонституцииРоссийской Федерации и общепризнанных принципах и нормах международного права.\n"
     ]
    }
   ],
   "source": [
    "print(df[\"page_content\"].iloc[0])"
   ]
  },
  {
   "cell_type": "code",
   "execution_count": 6,
   "metadata": {},
   "outputs": [
    {
     "data": {
      "text/plain": [
       "'Как формируется уголовное законодательство Российской Федерации?'"
      ]
     },
     "execution_count": 6,
     "metadata": {},
     "output_type": "execute_result"
    }
   ],
   "source": [
    "get_guestion_from_chunk(df[\"page_content\"].iloc[0])"
   ]
  },
  {
   "cell_type": "code",
   "execution_count": 7,
   "metadata": {},
   "outputs": [],
   "source": [
    "sampled_df = df.sample(100)"
   ]
  },
  {
   "cell_type": "code",
   "execution_count": 8,
   "metadata": {},
   "outputs": [
    {
     "data": {
      "text/plain": [
       "Index(['id', 'metadata', 'page_content', 'type'], dtype='object')"
      ]
     },
     "execution_count": 8,
     "metadata": {},
     "output_type": "execute_result"
    }
   ],
   "source": [
    "sampled_df.columns"
   ]
  },
  {
   "cell_type": "code",
   "execution_count": 9,
   "metadata": {},
   "outputs": [
    {
     "name": "stderr",
     "output_type": "stream",
     "text": [
      "100%|██████████| 100/100 [06:48<00:00,  4.08s/it]\n"
     ]
    }
   ],
   "source": [
    "lst = []\n",
    "\n",
    "for x in tqdm(sampled_df['page_content'].to_list()):\n",
    "\n",
    "    time.sleep(3)\n",
    "    answer = get_guestion_from_chunk(x)\n",
    "    lst.append(answer)"
   ]
  },
  {
   "cell_type": "code",
   "execution_count": 10,
   "metadata": {},
   "outputs": [
    {
     "data": {
      "text/html": [
       "<div>\n",
       "<style scoped>\n",
       "    .dataframe tbody tr th:only-of-type {\n",
       "        vertical-align: middle;\n",
       "    }\n",
       "\n",
       "    .dataframe tbody tr th {\n",
       "        vertical-align: top;\n",
       "    }\n",
       "\n",
       "    .dataframe thead th {\n",
       "        text-align: right;\n",
       "    }\n",
       "</style>\n",
       "<table border=\"1\" class=\"dataframe\">\n",
       "  <thead>\n",
       "    <tr style=\"text-align: right;\">\n",
       "      <th></th>\n",
       "      <th>id</th>\n",
       "      <th>metadata</th>\n",
       "      <th>page_content</th>\n",
       "      <th>type</th>\n",
       "      <th>question</th>\n",
       "    </tr>\n",
       "  </thead>\n",
       "  <tbody>\n",
       "    <tr>\n",
       "      <th>1756</th>\n",
       "      <td>NaN</td>\n",
       "      <td>{'name_codex': 'Уголовный кодекс (УК РФ)', 'ur...</td>\n",
       "      <td>наказывается штрафом в размере от ста тысяч до...</td>\n",
       "      <td>Document</td>\n",
       "      <td>Какое наказание предусмотрено за данное правон...</td>\n",
       "    </tr>\n",
       "    <tr>\n",
       "      <th>880</th>\n",
       "      <td>NaN</td>\n",
       "      <td>{'name_codex': 'Уголовный кодекс (УК РФ)', 'ur...</td>\n",
       "      <td>наказывается штрафом в размере до одного милли...</td>\n",
       "      <td>Document</td>\n",
       "      <td>Какое наказание предусмотрено за данное правон...</td>\n",
       "    </tr>\n",
       "    <tr>\n",
       "      <th>527</th>\n",
       "      <td>NaN</td>\n",
       "      <td>{'name_codex': 'Уголовный кодекс (УК РФ)', 'ur...</td>\n",
       "      <td>наказываются лишением свободы на срок от четыр...</td>\n",
       "      <td>Document</td>\n",
       "      <td>Какие действия наказываются лишением свободы н...</td>\n",
       "    </tr>\n",
       "    <tr>\n",
       "      <th>1605</th>\n",
       "      <td>NaN</td>\n",
       "      <td>{'name_codex': 'Уголовный кодекс (УК РФ)', 'ur...</td>\n",
       "      <td>1. Деяния, направленные на организацию занятия...</td>\n",
       "      <td>Document</td>\n",
       "      <td>Какое наказание предусмотрено за деяния, напра...</td>\n",
       "    </tr>\n",
       "    <tr>\n",
       "      <th>1316</th>\n",
       "      <td>NaN</td>\n",
       "      <td>{'name_codex': 'Уголовный кодекс (УК РФ)', 'ur...</td>\n",
       "      <td>наказываются лишением свободы на срок от двена...</td>\n",
       "      <td>Document</td>\n",
       "      <td>Какое наказание предусмотрено за данное престу...</td>\n",
       "    </tr>\n",
       "  </tbody>\n",
       "</table>\n",
       "</div>"
      ],
      "text/plain": [
       "      id                                           metadata  \\\n",
       "1756 NaN  {'name_codex': 'Уголовный кодекс (УК РФ)', 'ur...   \n",
       "880  NaN  {'name_codex': 'Уголовный кодекс (УК РФ)', 'ur...   \n",
       "527  NaN  {'name_codex': 'Уголовный кодекс (УК РФ)', 'ur...   \n",
       "1605 NaN  {'name_codex': 'Уголовный кодекс (УК РФ)', 'ur...   \n",
       "1316 NaN  {'name_codex': 'Уголовный кодекс (УК РФ)', 'ur...   \n",
       "\n",
       "                                           page_content      type  \\\n",
       "1756  наказывается штрафом в размере от ста тысяч до...  Document   \n",
       "880   наказывается штрафом в размере до одного милли...  Document   \n",
       "527   наказываются лишением свободы на срок от четыр...  Document   \n",
       "1605  1. Деяния, направленные на организацию занятия...  Document   \n",
       "1316  наказываются лишением свободы на срок от двена...  Document   \n",
       "\n",
       "                                               question  \n",
       "1756  Какое наказание предусмотрено за данное правон...  \n",
       "880   Какое наказание предусмотрено за данное правон...  \n",
       "527   Какие действия наказываются лишением свободы н...  \n",
       "1605  Какое наказание предусмотрено за деяния, напра...  \n",
       "1316  Какое наказание предусмотрено за данное престу...  "
      ]
     },
     "execution_count": 10,
     "metadata": {},
     "output_type": "execute_result"
    }
   ],
   "source": [
    "sampled_df[\"question\"] = lst\n",
    "sampled_df.head()"
   ]
  },
  {
   "cell_type": "markdown",
   "metadata": {},
   "source": [
    "# Ретрив \n",
    "\n",
    "такая же функция как в пайплайне, только сделал выдачу более удобную под задачу"
   ]
  },
  {
   "cell_type": "code",
   "execution_count": 13,
   "metadata": {},
   "outputs": [],
   "source": [
    "FAISS_DB = \"C:/Users/Kika-/Desktop/itmo_slivs/llm_project/FinanceInsight/data/index\"\n",
    "\n",
    "EMBEDDING_MODEL_NAME = 'intfloat/multilingual-e5-small'\n",
    "\n",
    "embedding_model = HuggingFaceEmbeddings(\n",
    "    model_name = EMBEDDING_MODEL_NAME,\n",
    "    multi_process = True,\n",
    "    encode_kwargs = {\"normalize_embeddings\": True}\n",
    ")\n",
    "\n",
    "vector_store = FAISS.load_local(\n",
    "    FAISS_DB, \n",
    "    embedding_model, \n",
    "    allow_dangerous_deserialization = True\n",
    ")\n",
    "\n",
    "def retrieve_v1(query: str):\n",
    "    \"\"\"\n",
    "    Получение ответа на вопросы об экономике, финансах, законах.\n",
    "    Данные получены из статей, сайтов, \n",
    "\n",
    "    Args:\n",
    "        query: вопрос пользователя.\n",
    "    \"\"\"\n",
    "    \n",
    "    retrieved_docs = vector_store.similarity_search(query = query, k=2)\n",
    "    \n",
    "    return [x.page_content for x in retrieved_docs] "
   ]
  },
  {
   "cell_type": "code",
   "execution_count": 14,
   "metadata": {},
   "outputs": [
    {
     "name": "stderr",
     "output_type": "stream",
     "text": [
      "100%|██████████| 100/100 [50:57<00:00, 30.58s/it]\n"
     ]
    }
   ],
   "source": [
    "retrieved_docs_v1 = []\n",
    "retrieved_docs_v2 = []\n",
    "\n",
    "for x in tqdm(sampled_df[\"question\"].to_list()):\n",
    "\n",
    "    retrieved = retrieve_v1(x)\n",
    "    retrieved_docs_v1.append(retrieved[0])\n",
    "    retrieved_docs_v2.append(retrieved[1])"
   ]
  },
  {
   "cell_type": "code",
   "execution_count": 15,
   "metadata": {},
   "outputs": [],
   "source": [
    "sampled_df[\"retrieved_docs_v1\"] = retrieved_docs_v1\n",
    "sampled_df[\"retrieved_docs_v2\"] = retrieved_docs_v2"
   ]
  },
  {
   "cell_type": "markdown",
   "metadata": {},
   "source": [
    "# Метрики"
   ]
  },
  {
   "cell_type": "code",
   "execution_count": 16,
   "metadata": {},
   "outputs": [],
   "source": [
    "def recall_at_k(retrieved_docs, relevant_docs, k):\n",
    "    retrieved_at_k = retrieved_docs[:k]\n",
    "    relevant_in_k = len(set(retrieved_at_k) & set(relevant_docs))\n",
    "    return relevant_in_k / len(relevant_docs) if relevant_docs else 0.0\n",
    "\n",
    "def precision_at_k(retrieved_docs, relevant_docs, k):\n",
    "    retrieved_at_k = retrieved_docs[:k]\n",
    "    relevant_in_k = len(set(retrieved_at_k) & set(relevant_docs))\n",
    "    return relevant_in_k / k if k > 0 else 0.0"
   ]
  },
  {
   "cell_type": "code",
   "execution_count": 17,
   "metadata": {},
   "outputs": [
    {
     "name": "stderr",
     "output_type": "stream",
     "text": [
      "100%|██████████| 100/100 [00:00<00:00, 12528.54it/s]\n"
     ]
    }
   ],
   "source": [
    "precision_at_1 = []\n",
    "recall_at_2 = []\n",
    "\n",
    "for x in tqdm(range(sampled_df.shape[0])):\n",
    "\n",
    "    relevant_docs = [sampled_df[\"page_content\"].iloc[x]]\n",
    "    retrieved_docs = [sampled_df[\"retrieved_docs_v1\"].iloc[x], sampled_df[\"retrieved_docs_v2\"].iloc[x]]\n",
    "    temp_recall = recall_at_k(retrieved_docs, relevant_docs, k=2)\n",
    "    temp_precision = precision_at_k(retrieved_docs, relevant_docs, k=1)\n",
    "\n",
    "    precision_at_1.append(temp_precision)\n",
    "    recall_at_2.append(temp_recall)"
   ]
  },
  {
   "cell_type": "code",
   "execution_count": 18,
   "metadata": {},
   "outputs": [],
   "source": [
    "avg_precision_at_1 = sum(precision_at_1) / len(precision_at_1)\n",
    "avg_recall_at_2 = sum(recall_at_2) / len(recall_at_2)"
   ]
  },
  {
   "cell_type": "code",
   "execution_count": 19,
   "metadata": {},
   "outputs": [
    {
     "name": "stdout",
     "output_type": "stream",
     "text": [
      "Средний precision@1 : 0.59\n",
      "Средний recall@2 : 0.62\n"
     ]
    }
   ],
   "source": [
    "print(\"Средний precision@1 :\", avg_precision_at_1)\n",
    "print(\"Средний recall@2 :\", avg_recall_at_2)"
   ]
  }
 ],
 "metadata": {
  "kernelspec": {
   "display_name": ".venv",
   "language": "python",
   "name": "python3"
  },
  "language_info": {
   "codemirror_mode": {
    "name": "ipython",
    "version": 3
   },
   "file_extension": ".py",
   "mimetype": "text/x-python",
   "name": "python",
   "nbconvert_exporter": "python",
   "pygments_lexer": "ipython3",
   "version": "3.11.4"
  }
 },
 "nbformat": 4,
 "nbformat_minor": 2
}
